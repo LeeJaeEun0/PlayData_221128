{
 "cells": [
  {
   "cell_type": "markdown",
   "id": "f38d560b",
   "metadata": {},
   "source": [
    "# if, for, while문 문제 하나씩 창작하기\n",
    "### while문에 break와 continue 사용하기\n",
    "### 자신이 할 수 있는 만큼 어렵게 작성하기 - 내가 이해한 정도"
   ]
  },
  {
   "cell_type": "markdown",
   "id": "ae101880",
   "metadata": {},
   "source": [
    "## if문"
   ]
  },
  {
   "cell_type": "code",
   "execution_count": 9,
   "id": "5884c703",
   "metadata": {},
   "outputs": [
    {
     "name": "stdout",
     "output_type": "stream",
     "text": [
      "한식, 일식, 양식, 중식 중 원하는 종류를 선택하세요 : ㅓㅓㅓㄹ어리ㅏㅓㅇㄹ;\n",
      "입력 오류! \n"
     ]
    }
   ],
   "source": [
    "# 점심을 선책하는데 도움을 주는 if문\n",
    "\n",
    "cho = input(\"한식, 일식, 양식, 중식 중 원하는 종류를 선택하세요 : \")\n",
    "\n",
    "if cho == \"한식\":\n",
    "    print(\"한식을 선택하셨네요!\")\n",
    "    menu = \"불고기\"\n",
    "    print(\"당신이 선택한 메뉴는 \",menu,\" 입니다.\")  \n",
    "elif cho == \"일식\":\n",
    "    print(\"일식을 선택하셨네요!\")\n",
    "    menu = \"회덮밥\"\n",
    "    print(\"당신이 선택한 메뉴는 \",menu,\" 입니다.\")  \n",
    "elif cho == \"양식\":\n",
    "    print(\"양식을 선택하셨네요!\")\n",
    "    menu = \"스테이크\"    \n",
    "    print(\"당신이 선택한 메뉴는 \",menu,\" 입니다.\")  \n",
    "elif cho == \"중식\":\n",
    "    print(\"중식을 선택하셨네요!\")\n",
    "    menu = \"짜장면\"\n",
    "    print(\"당신이 선택한 메뉴는 \",menu,\" 입니다.\")  \n",
    "else:\n",
    "    print(\"입력 오류! \")"
   ]
  },
  {
   "cell_type": "code",
   "execution_count": 42,
   "id": "8031cc3e",
   "metadata": {},
   "outputs": [
    {
     "name": "stdout",
     "output_type": "stream",
     "text": [
      "당신의 성적을 입력하세요 : 98\n",
      "당신의 성적은 A+ 입니다. 축하드려요!!\n"
     ]
    }
   ],
   "source": [
    "cho = input(\"당신의 성적을 입력하세요 : \")\n",
    "cho = int(cho)\n",
    "if (cho >= 90) and (cho <= 100):\n",
    "    print(\"당신의 성적은 A+ 입니다. 축하드려요!!\")\n",
    "elif cho >= 80:\n",
    "    print(\"당신의 성적은 B+ 입니다. 축하드려요!!\")\n",
    "elif cho >= 70:\n",
    "    print(\"당신의 성적은 C+ 입니다. 축하드려요!!\")\n",
    "elif cho >= 60:\n",
    "    print(\"당신의 성적은 D+ 입니다. 축하드려요!!\")\n",
    "elif (cho >= 0) and (cho <= 50):\n",
    "    print(\"당신의 성적은 D+ 입니다. 축하드려요!!\")\n",
    "else:\n",
    "    print(\"입력 오류! \")"
   ]
  },
  {
   "cell_type": "markdown",
   "id": "eb47aa02",
   "metadata": {},
   "source": [
    "## for문"
   ]
  },
  {
   "cell_type": "code",
   "execution_count": 34,
   "id": "e6b75bf8",
   "metadata": {},
   "outputs": [
    {
     "name": "stdout",
     "output_type": "stream",
     "text": [
      "A 60\n",
      "B 80\n",
      "C 89\n",
      "D 40\n",
      "E 89\n",
      "총합 :  358 평균 :  71.6\n"
     ]
    }
   ],
   "source": [
    "names = ['A','B','C','D','E']\n",
    "scores = [60, 80, 89, 40, 89]\n",
    "sum = 0\n",
    "for k in range(len(names)):     # len()은 리스트의 길이를 알아낸다 # 0,1,2,3 으로 진행\n",
    "    print(names[k], scores[k])\n",
    "    \n",
    "for p in range(len(scores)):\n",
    "    sum = sum+ scores[p]\n",
    "tot= sum/ int(len(scores))   \n",
    "print(\"총합 : \",sum,\"평균 : \", tot)"
   ]
  },
  {
   "cell_type": "code",
   "execution_count": 21,
   "id": "50c8a540",
   "metadata": {},
   "outputs": [
    {
     "name": "stdout",
     "output_type": "stream",
     "text": [
      "2 단\n",
      "2  *  1  =  2\n",
      "2  *  2  =  4\n",
      "2  *  3  =  6\n",
      "2  *  4  =  8\n",
      "2  *  5  =  10\n",
      "2  *  6  =  12\n",
      "2  *  7  =  14\n",
      "2  *  8  =  16\n",
      "2  *  9  =  18\n",
      "3 단\n",
      "3  *  1  =  3\n",
      "3  *  2  =  6\n",
      "3  *  3  =  9\n",
      "3  *  4  =  12\n",
      "3  *  5  =  15\n",
      "3  *  6  =  18\n",
      "3  *  7  =  21\n",
      "3  *  8  =  24\n",
      "3  *  9  =  27\n",
      "4 단\n",
      "4  *  1  =  4\n",
      "4  *  2  =  8\n",
      "4  *  3  =  12\n",
      "4  *  4  =  16\n",
      "4  *  5  =  20\n",
      "4  *  6  =  24\n",
      "4  *  7  =  28\n",
      "4  *  8  =  32\n",
      "4  *  9  =  36\n",
      "5 단\n",
      "5  *  1  =  5\n",
      "5  *  2  =  10\n",
      "5  *  3  =  15\n",
      "5  *  4  =  20\n",
      "5  *  5  =  25\n",
      "5  *  6  =  30\n",
      "5  *  7  =  35\n",
      "5  *  8  =  40\n",
      "5  *  9  =  45\n",
      "6 단\n",
      "6  *  1  =  6\n",
      "6  *  2  =  12\n",
      "6  *  3  =  18\n",
      "6  *  4  =  24\n",
      "6  *  5  =  30\n",
      "6  *  6  =  36\n",
      "6  *  7  =  42\n",
      "6  *  8  =  48\n",
      "6  *  9  =  54\n",
      "7 단\n",
      "7  *  1  =  7\n",
      "7  *  2  =  14\n",
      "7  *  3  =  21\n",
      "7  *  4  =  28\n",
      "7  *  5  =  35\n",
      "7  *  6  =  42\n",
      "7  *  7  =  49\n",
      "7  *  8  =  56\n",
      "7  *  9  =  63\n",
      "8 단\n",
      "8  *  1  =  8\n",
      "8  *  2  =  16\n",
      "8  *  3  =  24\n",
      "8  *  4  =  32\n",
      "8  *  5  =  40\n",
      "8  *  6  =  48\n",
      "8  *  7  =  56\n",
      "8  *  8  =  64\n",
      "8  *  9  =  72\n",
      "9 단\n",
      "9  *  1  =  9\n",
      "9  *  2  =  18\n",
      "9  *  3  =  27\n",
      "9  *  4  =  36\n",
      "9  *  5  =  45\n",
      "9  *  6  =  54\n",
      "9  *  7  =  63\n",
      "9  *  8  =  72\n",
      "9  *  9  =  81\n"
     ]
    }
   ],
   "source": [
    "# 구구단 \n",
    "\n",
    "for i in range(2,10,1):\n",
    "    print(i,\"단\")\n",
    "    for j in range(1,10,1):\n",
    "        print(i,\" * \", j,\" = \", i*j)\n",
    "        # print(f\"{i}*{j}={i*j}\")"
   ]
  },
  {
   "cell_type": "markdown",
   "id": "529c8c6f",
   "metadata": {},
   "source": [
    "## while문"
   ]
  },
  {
   "cell_type": "code",
   "execution_count": 36,
   "id": "11e817b3",
   "metadata": {},
   "outputs": [
    {
     "name": "stdout",
     "output_type": "stream",
     "text": [
      "한식, 일식, 양식, 중식 중 원하는 종류를 선택하세요 : 일식\n",
      "일식을 선택하셨네요!\n",
      "당신이 선택한 메뉴는  회덮밥  입니다.\n",
      "프로그램 종료.\n"
     ]
    }
   ],
   "source": [
    "# while문 연습\n",
    "\n",
    "while True:\n",
    "    cho = input(\"한식, 일식, 양식, 중식 중 원하는 종류를 선택하세요 : \")\n",
    "\n",
    "    if cho == \"한식\":\n",
    "        print(\"한식을 선택하셨네요!\")\n",
    "        menu = \"불고기\"\n",
    "        print(\"당신이 선택한 메뉴는 \",menu,\" 입니다.\") \n",
    "        break\n",
    "    elif cho == \"일식\":\n",
    "        print(\"일식을 선택하셨네요!\")\n",
    "        menu = \"회덮밥\"\n",
    "        print(\"당신이 선택한 메뉴는 \",menu,\" 입니다.\")  \n",
    "        break\n",
    "    elif cho == \"양식\":\n",
    "        print(\"양식을 선택하셨네요!\")\n",
    "        menu = \"스테이크\"    \n",
    "        print(\"당신이 선택한 메뉴는 \",menu,\" 입니다.\")  \n",
    "        break\n",
    "    elif cho == \"중식\":\n",
    "        print(\"중식을 선택하셨네요!\")\n",
    "        menu = \"짜장면\"\n",
    "        print(\"당신이 선택한 메뉴는 \",menu,\" 입니다.\")    \n",
    "        break\n",
    "    else:\n",
    "        print(\"입력 오류! \")\n",
    "        continue\n",
    "print(\"프로그램 종료.\")"
   ]
  },
  {
   "cell_type": "markdown",
   "id": "a13bc8ac",
   "metadata": {},
   "source": [
    "## 1124 - 내용 추가"
   ]
  },
  {
   "cell_type": "code",
   "execution_count": 35,
   "id": "69956989",
   "metadata": {},
   "outputs": [
    {
     "name": "stdout",
     "output_type": "stream",
     "text": [
      "출력을 원하시는 단을 입력하세요3\n",
      "3 단 \n",
      "3  *  1  =  3\n",
      "3  *  2  =  6\n",
      "3  *  3  =  9\n",
      "3  *  4  =  12\n",
      "3  *  5  =  15\n",
      "3  *  6  =  18\n",
      "3  *  7  =  21\n",
      "3  *  8  =  24\n",
      "3  *  9  =  27\n"
     ]
    }
   ],
   "source": [
    "cho = input(\"출력을 원하시는 단을 입력하세요\")\n",
    "cho = int(cho)\n",
    "print(cho,\"단 \")\n",
    "for j in range(1,10,1):\n",
    "    print(cho,\" * \", j,\" = \", cho*j)"
   ]
  },
  {
   "cell_type": "code",
   "execution_count": 24,
   "id": "0bfd9825",
   "metadata": {},
   "outputs": [
    {
     "name": "stdout",
     "output_type": "stream",
     "text": [
      "짝수 단만 출력하기!!\n",
      "2 단\n",
      "2  *  1  =  2\n",
      "2  *  2  =  4\n",
      "2  *  3  =  6\n",
      "2  *  4  =  8\n",
      "2  *  5  =  10\n",
      "2  *  6  =  12\n",
      "2  *  7  =  14\n",
      "2  *  8  =  16\n",
      "2  *  9  =  18\n",
      "4 단\n",
      "4  *  1  =  4\n",
      "4  *  2  =  8\n",
      "4  *  3  =  12\n",
      "4  *  4  =  16\n",
      "4  *  5  =  20\n",
      "4  *  6  =  24\n",
      "4  *  7  =  28\n",
      "4  *  8  =  32\n",
      "4  *  9  =  36\n",
      "6 단\n",
      "6  *  1  =  6\n",
      "6  *  2  =  12\n",
      "6  *  3  =  18\n",
      "6  *  4  =  24\n",
      "6  *  5  =  30\n",
      "6  *  6  =  36\n",
      "6  *  7  =  42\n",
      "6  *  8  =  48\n",
      "6  *  9  =  54\n",
      "8 단\n",
      "8  *  1  =  8\n",
      "8  *  2  =  16\n",
      "8  *  3  =  24\n",
      "8  *  4  =  32\n",
      "8  *  5  =  40\n",
      "8  *  6  =  48\n",
      "8  *  7  =  56\n",
      "8  *  8  =  64\n",
      "8  *  9  =  72\n"
     ]
    }
   ],
   "source": [
    "# 구구단 # 짝수단, 홀수단 나눠볼까?\n",
    "print(\"짝수 단만 출력하기!!\")\n",
    "for i in range(2,10,1):\n",
    "    if i % 2!=0 :\n",
    "        continue\n",
    "    print(i,\"단\")\n",
    "    for j in range(1,10,1):\n",
    "        print(i,\" * \", j,\" = \", i*j)\n",
    "        # print(f\"{i}*{j}={i*j}\")"
   ]
  },
  {
   "cell_type": "code",
   "execution_count": 23,
   "id": "11a4912c",
   "metadata": {},
   "outputs": [
    {
     "name": "stdout",
     "output_type": "stream",
     "text": [
      "3 단\n",
      "3  *  1  =  3\n",
      "3  *  2  =  6\n",
      "3  *  3  =  9\n",
      "3  *  4  =  12\n",
      "3  *  5  =  15\n",
      "3  *  6  =  18\n",
      "3  *  7  =  21\n",
      "3  *  8  =  24\n",
      "3  *  9  =  27\n",
      "5 단\n",
      "5  *  1  =  5\n",
      "5  *  2  =  10\n",
      "5  *  3  =  15\n",
      "5  *  4  =  20\n",
      "5  *  5  =  25\n",
      "5  *  6  =  30\n",
      "5  *  7  =  35\n",
      "5  *  8  =  40\n",
      "5  *  9  =  45\n",
      "7 단\n",
      "7  *  1  =  7\n",
      "7  *  2  =  14\n",
      "7  *  3  =  21\n",
      "7  *  4  =  28\n",
      "7  *  5  =  35\n",
      "7  *  6  =  42\n",
      "7  *  7  =  49\n",
      "7  *  8  =  56\n",
      "7  *  9  =  63\n",
      "9 단\n",
      "9  *  1  =  9\n",
      "9  *  2  =  18\n",
      "9  *  3  =  27\n",
      "9  *  4  =  36\n",
      "9  *  5  =  45\n",
      "9  *  6  =  54\n",
      "9  *  7  =  63\n",
      "9  *  8  =  72\n",
      "9  *  9  =  81\n"
     ]
    }
   ],
   "source": [
    "print(\"홀수 단만 출력하기!!\")\n",
    "for i in range(2,10,1):\n",
    "    if i % 2==0 :\n",
    "        continue\n",
    "    print(i,\"단\")\n",
    "    for j in range(1,10,1):\n",
    "        print(i,\" * \", j,\" = \", i*j)\n",
    "        # print(f\"{i}*{j}={i*j}\")"
   ]
  },
  {
   "cell_type": "markdown",
   "id": "6a5705dd",
   "metadata": {},
   "source": [
    "## while문"
   ]
  },
  {
   "cell_type": "code",
   "execution_count": 8,
   "id": "b344a707",
   "metadata": {},
   "outputs": [
    {
     "name": "stdout",
     "output_type": "stream",
     "text": [
      "현재 i 값은  50 현재 총합은  1275\n"
     ]
    }
   ],
   "source": [
    "sum,i = 0,0\n",
    "while (i < 50) :\n",
    "    i=i+1\n",
    "    sum = sum+ i\n",
    "print(\"현재 i 값은 \", i, \"현재 총합은 \", sum)\n"
   ]
  },
  {
   "cell_type": "code",
   "execution_count": 12,
   "id": "254fc3b6",
   "metadata": {},
   "outputs": [
    {
     "name": "stdout",
     "output_type": "stream",
     "text": [
      "현재 i 값은  50 현재 총합은  650\n"
     ]
    }
   ],
   "source": [
    "# 짝수 출력하기\n",
    "sum,i = 0,0\n",
    "while (i < 50) :\n",
    "    i=i+1\n",
    "    if i % 2 == 0:\n",
    "        sum = sum+ i\n",
    "print(\"현재 i 값은 \", i, \"현재 총합은 \", sum)"
   ]
  },
  {
   "cell_type": "code",
   "execution_count": 14,
   "id": "974c2755",
   "metadata": {},
   "outputs": [
    {
     "name": "stdout",
     "output_type": "stream",
     "text": [
      "현재 i 값은  50 현재 총합은  625\n"
     ]
    }
   ],
   "source": [
    "# 홀수 출력하기\n",
    "sum,i = 0,0\n",
    "while (i < 50) :\n",
    "    i=i+1\n",
    "    if i % 2 == 0:\n",
    "        continue\n",
    "    sum = sum+ i\n",
    "print(\"현재 i 값은 \", i, \"현재 총합은 \", sum)"
   ]
  },
  {
   "cell_type": "markdown",
   "id": "a911666e",
   "metadata": {},
   "source": [
    "## 복합 연습"
   ]
  },
  {
   "cell_type": "code",
   "execution_count": 25,
   "id": "c2853337",
   "metadata": {},
   "outputs": [
    {
     "name": "stdout",
     "output_type": "stream",
     "text": [
      "한식, 일식, 양식, 중식 중 원하는 종류를 선택하세요 : 한식\n",
      "한식을 선택하셨네요!\n",
      "오늘의 추천 메뉴는  불고기  입니다.\n",
      "프로그램 종료.\n"
     ]
    }
   ],
   "source": [
    "# while문 연습\n",
    "\n",
    "while True:\n",
    "    cho = input(\"한식, 일식, 양식, 중식 중 원하는 종류를 선택하세요 : \")\n",
    "\n",
    "    if cho == \"한식\":\n",
    "        print(\"한식을 선택하셨네요!\")\n",
    "        menu = \"불고기\"\n",
    "        print(\"오늘의 추천 메뉴는 \",menu,\" 입니다.\") \n",
    "        break\n",
    "    elif cho == \"일식\":\n",
    "        print(\"일식을 선택하셨네요!\")\n",
    "        menu = \"회덮밥\"\n",
    "        print(\"오늘의 추천 메뉴는 \",menu,\" 입니다.\")   \n",
    "        break\n",
    "    elif cho == \"양식\":\n",
    "        print(\"양식을 선택하셨네요!\")\n",
    "        menu = \"스테이크\"    \n",
    "        print(\"오늘의 추천 메뉴는 \",menu,\" 입니다.\")  \n",
    "        break\n",
    "    elif cho == \"중식\":\n",
    "        print(\"중식을 선택하셨네요!\")\n",
    "        menu = \"짜장면\"\n",
    "        print(\"오늘의 추천 메뉴는 \",menu,\" 입니다.\")   \n",
    "        break\n",
    "    else:\n",
    "        print(\"입력 오류! \")\n",
    "        continue\n",
    "print(\"프로그램 종료.\")"
   ]
  },
  {
   "cell_type": "code",
   "execution_count": 3,
   "id": "d489a9bf",
   "metadata": {},
   "outputs": [
    {
     "name": "stdout",
     "output_type": "stream",
     "text": [
      "한식, 일식, 양식, 중식, 기타 중 원하는 종류를 선택하세요 : 양식\n",
      "양식을 선택하셨네요!\n",
      "오늘의 추천 메뉴는  치킨 커틀렛  입니다.\n",
      "프로그램 종료.\n"
     ]
    }
   ],
   "source": [
    "import random\n",
    "# while문 연습\n",
    "menu = ['한식','일식','양식','중식','기타']\n",
    "menu_k = ['칼국수','국밥','고기!','비빔밥','잡채']\n",
    "menu_c = ['짜장면','짬뽕','군만두','탕수육','마라탕']\n",
    "menu_j = ['초밥','덴뿌라','우동','라멘','야키토리']\n",
    "menu_a = ['오믈렛','비프스튜','치킨 커틀렛','햄버거']\n",
    "menu_e = ['베트남 - 쌀국수','짜장면','고기!','초밥','돈가스']\n",
    "\n",
    "while True:\n",
    "    cho = input(\"한식, 일식, 양식, 중식, 기타 중 원하는 종류를 선택하세요 : \")\n",
    "\n",
    "    if menu[0] == cho:\n",
    "        print(\"한식을 선택하셨네요!\")\n",
    "        menu1 = random.choice(menu_k)\n",
    "        print(\"오늘의 추천 메뉴는 \",menu1,\" 입니다.\")  \n",
    "        break\n",
    "    elif menu[1] == cho:\n",
    "        print(\"일식을 선택하셨네요!\")\n",
    "        menu1 = random.choice(menu_j)\n",
    "        print(\"오늘의 추천 메뉴는 \",menu1,\" 입니다.\")  \n",
    "        break\n",
    "    elif menu[2] == cho:\n",
    "        print(\"양식을 선택하셨네요!\")\n",
    "        menu1 = random.choice(menu_a)\n",
    "        print(\"오늘의 추천 메뉴는 \",menu1,\" 입니다.\")  \n",
    "        break\n",
    "    elif menu[3] == cho:\n",
    "        print(\"중식을 선택하셨네요!\")\n",
    "        menu1 = random.choice(menu_c)\n",
    "        print(\"오늘의 추천 메뉴는 \",menu1,\" 입니다.\")  \n",
    "        break\n",
    "    elif menu[4] == cho:\n",
    "        print(\"기타 - 랜덤을 선택하셨네요!\")\n",
    "        menu1 = random.choice(menu_e)\n",
    "        print(\"오늘의 추천 메뉴는 \",menu1,\" 입니다.\")  \n",
    "        break    \n",
    "    else:\n",
    "        print(\"입력 오류! \")\n",
    "        continue\n",
    "print(\"프로그램 종료.\")"
   ]
  },
  {
   "cell_type": "code",
   "execution_count": 32,
   "id": "f8eba6da",
   "metadata": {},
   "outputs": [
    {
     "name": "stdout",
     "output_type": "stream",
     "text": [
      "국물 요리, 정식 요리, 구이 요리, 면 요리, 뷔페, 분식 중 원하는 종류를 선택하세요 : 면\n",
      "면 요리를 선택하셨네요!\n",
      "오늘의 추천 메뉴는  칼국수  입니다.\n",
      "이용해주셔서 감사합니다!\n"
     ]
    }
   ],
   "source": [
    "import random\n",
    "# while문 연습\n",
    "menu = ['국물 요리','정식 요리','구이 요리','면 요리','뷔페','분식']\n",
    "menu_1 = ['해장국','순댓국','설렁탕','갈비탕', '국밥']\n",
    "menu_2 = ['김치찌개','된장찌개','순두부찌개','청국장찌개']\n",
    "menu_3 = ['돈가스','보쌈','쌈밥','백반']\n",
    "menu_4 = ['조기 구이','가자미 구이','제철 생선 구이']\n",
    "menu_5 = ['칼국수','냉면','짜장면','짬뽕']\n",
    "menu_6 = ['한식','초밥','기사식당']\n",
    "menu_7 = ['떡볶이','오뎅','김밥','라볶이']\n",
    "while True:\n",
    "    cho = input(\"국물 요리, 정식 요리, 구이 요리, 면 요리, 뷔페, 분식 중 원하는 종류를 선택하세요 : \")\n",
    "    if menu[0] == cho or \"국물\" == cho :\n",
    "        print(\"국물 요리를 선택하셨네요!\")\n",
    "        while True:\n",
    "            menu2 = input(\"찌개를 원하시나요? (y/n)\")\n",
    "            if menu2 == \"y\":\n",
    "                menu1 = random.choice(menu_2)\n",
    "                print(\"오늘의 추천 메뉴는 \",menu1,\" 입니다.\") \n",
    "                break\n",
    "            elif menu2 == \"n\":\n",
    "                menu1 = random.choice(menu_1)\n",
    "                print(\"오늘의 추천 메뉴는 \",menu1,\" 입니다.\") \n",
    "                break\n",
    "            else :\n",
    "                print(\"다시 입력하세요!\")\n",
    "                continue\n",
    "        break\n",
    "    elif menu[1] == cho or \"정식\" == cho:\n",
    "        print(\"정식 요리를 선택하셨네요!\")\n",
    "        menu1 = random.choice(menu_3)\n",
    "        print(\"오늘의 추천 메뉴는 \",menu1,\" 입니다.\")\n",
    "        break\n",
    "    elif menu[2] == cho or \"구이\" == cho:\n",
    "        print(\"구이 요리를 선택하셨네요!\")\n",
    "        menu1 = random.choice(menu_4)\n",
    "        print(\"오늘의 추천 메뉴는 \",menu1,\" 입니다.\") \n",
    "        break\n",
    "    elif menu[3] == cho or \"면\" == cho:\n",
    "        print(\"면 요리를 선택하셨네요!\")\n",
    "        menu1 = random.choice(menu_5)\n",
    "        print(\"오늘의 추천 메뉴는 \",menu1,\" 입니다.\") \n",
    "        break\n",
    "    elif menu[4] == cho :\n",
    "        print(\"뷔페를 선택하셨네요!\")\n",
    "        menu1 = random.choice(menu_6)\n",
    "        print(\"오늘의 추천 메뉴는 \",menu1,\" 입니다.\") \n",
    "        break\n",
    "    elif menu[5] == cho:\n",
    "        print(\"분식을 선택하셨네요!\")\n",
    "        menu1 = random.choice(menu_7)\n",
    "        print(\"오늘의 추천 메뉴는 \",menu1,\" 입니다.\") \n",
    "        break  \n",
    "    else:\n",
    "        print(\"입력 오류! \")\n",
    "        continue\n",
    "print(\"이용해주셔서 감사합니다!\")"
   ]
  },
  {
   "cell_type": "markdown",
   "id": "e3b135c0",
   "metadata": {},
   "source": [
    "## 11월 28일 함수로 변경하기"
   ]
  },
  {
   "cell_type": "markdown",
   "id": "01af5543",
   "metadata": {},
   "source": [
    "### 1. 음식 선택하기"
   ]
  },
  {
   "cell_type": "code",
   "execution_count": 10,
   "id": "48ce4631",
   "metadata": {},
   "outputs": [],
   "source": [
    "def menu_cho(menu):\n",
    "    import random\n",
    "    menu = ['한식','일식','양식','중식','기타']\n",
    "    menu_k = ['칼국수','국밥','고기!','비빔밥','잡채']\n",
    "    menu_c = ['짜장면','짬뽕','군만두','탕수육','마라탕']\n",
    "    menu_j = ['초밥','덴뿌라','우동','라멘','야키토리']\n",
    "    menu_a = ['오믈렛','비프스튜','치킨 커틀렛','햄버거']\n",
    "    menu_e = ['베트남 - 쌀국수','짜장면','고기!','초밥','돈가스']\n",
    "    # while문 연습\n",
    "    if menu[0] == cho:\n",
    "        print(\"한식을 선택하셨네요!\")\n",
    "        menu1 = random.choice(menu_k)\n",
    "        print(\"오늘의 추천 메뉴는 \",menu1,\" 입니다.\")  \n",
    "        return 'y'\n",
    "    elif menu[1] == cho:\n",
    "        print(\"일식을 선택하셨네요!\")\n",
    "        menu1 = random.choice(menu_j)\n",
    "        print(\"오늘의 추천 메뉴는 \",menu1,\" 입니다.\")  \n",
    "        return 'y'\n",
    "    elif menu[2] == cho:\n",
    "        print(\"양식을 선택하셨네요!\")\n",
    "        menu1 = random.choice(menu_a)\n",
    "        print(\"오늘의 추천 메뉴는 \",menu1,\" 입니다.\")  \n",
    "        return 'y'\n",
    "    elif menu[3] == cho:\n",
    "        print(\"중식을 선택하셨네요!\")\n",
    "        menu1 = random.choice(menu_c)\n",
    "        print(\"오늘의 추천 메뉴는 \",menu1,\" 입니다.\")  \n",
    "        return 'y'\n",
    "    elif menu[4] == cho:\n",
    "        print(\"기타 - 랜덤을 선택하셨네요!\")\n",
    "        menu1 = random.choice(menu_e)\n",
    "        print(\"오늘의 추천 메뉴는 \",menu1,\" 입니다.\")  \n",
    "        return 'y'\n",
    "    else:\n",
    "        print(\"입력 오류! \")\n",
    "        return 'n'"
   ]
  },
  {
   "cell_type": "code",
   "execution_count": 11,
   "id": "dbc3d1e6",
   "metadata": {},
   "outputs": [
    {
     "name": "stdout",
     "output_type": "stream",
     "text": [
      "한식, 일식, 양식, 중식, 기타 중 원하는 종류를 선택하세요 : 일식\n",
      "일식을 선택하셨네요!\n",
      "오늘의 추천 메뉴는  야키토리  입니다.\n",
      "프로그램 종료.\n"
     ]
    }
   ],
   "source": [
    "while True:\n",
    "    cho = input(\"한식, 일식, 양식, 중식, 기타 중 원하는 종류를 선택하세요 : \")\n",
    "    choose = menu_cho(cho)\n",
    "    if choose == 'y':\n",
    "        break\n",
    "    elif choose == \"n\":\n",
    "        continue\n",
    "print(\"프로그램 종료.\")"
   ]
  },
  {
   "cell_type": "markdown",
   "id": "1cb84dcf",
   "metadata": {},
   "source": [
    "### 2. 음식 카테고리선택하기"
   ]
  },
  {
   "cell_type": "code",
   "execution_count": 14,
   "id": "2bb52b8e",
   "metadata": {},
   "outputs": [],
   "source": [
    "def menu_cho2(cho) :\n",
    "    import random\n",
    "    menu = ['국물 요리','정식 요리','구이 요리','면 요리','뷔페','분식']\n",
    "    menu_1 = ['해장국','순댓국','설렁탕','갈비탕', '국밥']\n",
    "    menu_2 = ['김치찌개','된장찌개','순두부찌개','청국장찌개']\n",
    "    menu_3 = ['돈가스','보쌈','쌈밥','백반']\n",
    "    menu_4 = ['조기 구이','가자미 구이','제철 생선 구이']\n",
    "    menu_5 = ['칼국수','냉면','짜장면','짬뽕']\n",
    "    menu_6 = ['한식','초밥','기사식당']\n",
    "    menu_7 = ['떡볶이','오뎅','김밥','라볶이']\n",
    "    if menu[0] == cho or \"국물\" == cho :\n",
    "        print(\"국물 요리를 선택하셨네요!\")\n",
    "        while True:\n",
    "            menu2 = input(\"찌개를 원하시나요? (y/n)\")\n",
    "            if menu2 == \"y\":\n",
    "                menu1 = random.choice(menu_2)\n",
    "                print(\"오늘의 추천 메뉴는 \",menu1,\" 입니다.\") \n",
    "                break\n",
    "            elif menu2 == \"n\":\n",
    "                menu1 = random.choice(menu_1)\n",
    "                print(\"오늘의 추천 메뉴는 \",menu1,\" 입니다.\") \n",
    "                break\n",
    "            else :\n",
    "                print(\"다시 입력하세요!\")\n",
    "                continue\n",
    "        return 'y'\n",
    "    elif menu[1] == cho or \"정식\" == cho:\n",
    "        print(\"정식 요리를 선택하셨네요!\")\n",
    "        menu1 = random.choice(menu_3)\n",
    "        print(\"오늘의 추천 메뉴는 \",menu1,\" 입니다.\")\n",
    "        return 'y'\n",
    "    elif menu[2] == cho or \"구이\" == cho:\n",
    "        print(\"구이 요리를 선택하셨네요!\")\n",
    "        menu1 = random.choice(menu_4)\n",
    "        print(\"오늘의 추천 메뉴는 \",menu1,\" 입니다.\") \n",
    "        return 'y'\n",
    "    elif menu[3] == cho or \"면\" == cho:\n",
    "        print(\"면 요리를 선택하셨네요!\")\n",
    "        menu1 = random.choice(menu_5)\n",
    "        print(\"오늘의 추천 메뉴는 \",menu1,\" 입니다.\") \n",
    "        return 'y'\n",
    "    elif menu[4] == cho :\n",
    "        print(\"뷔페를 선택하셨네요!\")\n",
    "        menu1 = random.choice(menu_6)\n",
    "        print(\"오늘의 추천 메뉴는 \",menu1,\" 입니다.\") \n",
    "        return 'y'\n",
    "    elif menu[5] == cho:\n",
    "        print(\"분식을 선택하셨네요!\")\n",
    "        menu1 = random.choice(menu_7)\n",
    "        print(\"오늘의 추천 메뉴는 \",menu1,\" 입니다.\") \n",
    "        return 'y' \n",
    "    else:\n",
    "        print(\"입력 오류! \")\n",
    "        return 'n'"
   ]
  },
  {
   "cell_type": "code",
   "execution_count": 15,
   "id": "59ac1eed",
   "metadata": {},
   "outputs": [
    {
     "name": "stdout",
     "output_type": "stream",
     "text": [
      "국물 요리, 정식 요리, 구이 요리, 면 요리, 뷔페, 분식 중 원하는 종류를 선택하세요 : 국물\n",
      "국물 요리를 선택하셨네요!\n",
      "찌개를 원하시나요? (y/n)n\n",
      "오늘의 추천 메뉴는  순댓국  입니다.\n",
      "이용해주셔서 감사합니다!\n"
     ]
    }
   ],
   "source": [
    "\n",
    "# while문 연습\n",
    "\n",
    "while True:\n",
    "    cho = input(\"국물 요리, 정식 요리, 구이 요리, 면 요리, 뷔페, 분식 중 원하는 종류를 선택하세요 : \")\n",
    "    choose = menu_cho2(cho)\n",
    "    if choose == 'y':\n",
    "        break\n",
    "    elif choose == \"n\":\n",
    "        continue\n",
    "print(\"이용해주셔서 감사합니다!\")"
   ]
  }
 ],
 "metadata": {
  "kernelspec": {
   "display_name": "Python 3 (ipykernel)",
   "language": "python",
   "name": "python3"
  },
  "language_info": {
   "codemirror_mode": {
    "name": "ipython",
    "version": 3
   },
   "file_extension": ".py",
   "mimetype": "text/x-python",
   "name": "python",
   "nbconvert_exporter": "python",
   "pygments_lexer": "ipython3",
   "version": "3.9.13"
  }
 },
 "nbformat": 4,
 "nbformat_minor": 5
}
