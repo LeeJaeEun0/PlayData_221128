{
 "cells": [
  {
   "cell_type": "markdown",
   "id": "0283b54b",
   "metadata": {},
   "source": [
    "## 8.3 객체와 클래스를  사용하는 이유"
   ]
  },
  {
   "cell_type": "markdown",
   "id": "50df02af",
   "metadata": {},
   "source": [
    "코드관리가 편하다. 큰 프로그램을 만들때는 클래스와 객체를 많이 이용. \n",
    "유사한 객체가 많은 프로그램을 만들때도 주로 클래스와 객체를 이용해 코드를 작성한다.\n",
    "\n",
    "\n",
    "    로봇의 속성: 이름, 위치\n",
    "\n",
    "    로봇의 동작: 한 칸 이동\n",
    "\n",
    "    클래스와 객체를 사용하지 않을시\n"
   ]
  },
  {
   "cell_type": "code",
   "execution_count": 6,
   "id": "52b75aaf",
   "metadata": {},
   "outputs": [],
   "source": [
    "robot_name = 'R1' # 로봇 이름\n",
    "robot_pos = 0 # 로봇의 초기 위치\n",
    "\n",
    "def robot_move():\n",
    "    global robot_pos\n",
    "    robot_pos = robot_pos +1\n",
    "    print(\"{0} position: {1}\".format(robot_name, robot_pos))"
   ]
  },
  {
   "cell_type": "code",
   "execution_count": 7,
   "id": "647a1fbd",
   "metadata": {},
   "outputs": [
    {
     "name": "stdout",
     "output_type": "stream",
     "text": [
      "R1 position: 1\n"
     ]
    }
   ],
   "source": [
    "robot_move()"
   ]
  },
  {
   "cell_type": "markdown",
   "id": "536b09e8",
   "metadata": {},
   "source": [
    "### 로봇 2대 만들기"
   ]
  },
  {
   "cell_type": "code",
   "execution_count": 8,
   "id": "c1d519fe",
   "metadata": {},
   "outputs": [],
   "source": [
    "robot1_name = 'R1' # 로봇 이름 # 장기, 체스말 구현가능, 라이브러리 이용해서 만드는 연습하기\n",
    "robot1_pos = 0 # 로봇의 초기 위치\n",
    "\n",
    "def robot1_move():\n",
    "    global robot1_pos\n",
    "    robot1_pos = robot1_pos +1\n",
    "    print(\"{0} position: {1}\".format(robot1_name,robot1_pos))\n",
    "\n",
    "robot2_name = 'R2' # 로봇 객체의 이름\n",
    "robot2_pos = 10    로봇 객체의 위치\n",
    "\n",
    "def robot2_move():\n",
    "    global robot2_pos\n",
    "    robot2_pos = robot2_pos +1\n",
    "    print(\"{0} position: {1}\".format(robot2_name,robot2_pos))"
   ]
  },
  {
   "cell_type": "code",
   "execution_count": 9,
   "id": "4792dc7d",
   "metadata": {},
   "outputs": [
    {
     "name": "stdout",
     "output_type": "stream",
     "text": [
      "R1 position: 1\n",
      "R2 position: 11\n"
     ]
    }
   ],
   "source": [
    "robot1_move()\n",
    "robot2_move()"
   ]
  },
  {
   "cell_type": "markdown",
   "id": "8a958f6c",
   "metadata": {},
   "source": [
    "로봇이 늘어날 수록 더 많은 변수와 함수가 필요하며 코드가 길어짐 로봇 별로 변수와 함수의 역활이 같으므로 클래스와 객체를 이용하면 편리함."
   ]
  },
  {
   "cell_type": "code",
   "execution_count": 15,
   "id": "39ad036e",
   "metadata": {},
   "outputs": [],
   "source": [
    "class Robot():\n",
    "    def __init__(self, name, pos):\n",
    "        self.name = name # 로봇 객체의 이름\n",
    "        self.pos = pos #로봇 객체의 위치\n",
    "        \n",
    "    def move(self):\n",
    "        self.pos = self.pos+1\n",
    "        print(\"{0} position {1}\".format(self.name, self.pos))"
   ]
  },
  {
   "cell_type": "markdown",
   "id": "a9cb15ac",
   "metadata": {},
   "source": [
    "객체 생성"
   ]
  },
  {
   "cell_type": "code",
   "execution_count": 17,
   "id": "eecc6222",
   "metadata": {},
   "outputs": [],
   "source": [
    "robot1 = Robot('R1', 0)\n",
    "robot2 = Robot('R1', 10)"
   ]
  },
  {
   "cell_type": "markdown",
   "id": "24f7b624",
   "metadata": {},
   "source": [
    "메서드 실행"
   ]
  },
  {
   "cell_type": "code",
   "execution_count": 18,
   "id": "bd38791c",
   "metadata": {},
   "outputs": [
    {
     "name": "stdout",
     "output_type": "stream",
     "text": [
      "R1 position 1\n",
      "R1 position 11\n"
     ]
    }
   ],
   "source": [
    "robot1.move()\n",
    "robot2.move()"
   ]
  },
  {
   "cell_type": "markdown",
   "id": "9e29c110",
   "metadata": {},
   "source": [
    "더 많은 객체 생성 및 메서드 실행"
   ]
  },
  {
   "cell_type": "code",
   "execution_count": 19,
   "id": "84838630",
   "metadata": {},
   "outputs": [
    {
     "name": "stdout",
     "output_type": "stream",
     "text": [
      "R3 position 31\n",
      "R4 position 41\n"
     ]
    }
   ],
   "source": [
    "myRobot3 = Robot('R3', 30)\n",
    "myRobot4 = Robot('R4', 40)\n",
    "\n",
    "myRobot3.move()\n",
    "myRobot4.move()"
   ]
  },
  {
   "cell_type": "markdown",
   "id": "3c013160",
   "metadata": {},
   "source": [
    "## 8.4 클래스 상속"
   ]
  },
  {
   "cell_type": "markdown",
   "id": "860066d6",
   "metadata": {},
   "source": [
    "만들어진 클래스 변수와 함수를 이어받고 새로운 내용을 추가해 클래스를 선언할 수 있다. 이를 상속이라고 한다.<br>\n",
    "부모클래스(슈퍼 클래스, 상위 클래스)와 자식 클래스(서브 클래스. 하위 클래스)라고 한다"
   ]
  },
  {
   "cell_type": "markdown",
   "id": "e8b4b25d",
   "metadata": {},
   "source": [
    "class 자식 클래스 이름(부모 클래스 이름): <코드 블록>"
   ]
  },
  {
   "cell_type": "code",
   "execution_count": 22,
   "id": "e4886d32",
   "metadata": {},
   "outputs": [],
   "source": [
    "class Bicycle(): #부모가 없는 클래스\n",
    "    def __init__ (self,wheel_size, color):\n",
    "        self.wheel_size = wheel_size\n",
    "        self.color = color\n",
    "    def move(self, speed):\n",
    "        print(\"자전거: 시속 {0}킬로미터로 전진\".format(speed))\n",
    "    def turn(self, direction):\n",
    "        print(\"자전거: {0}회전\".format(direction))\n",
    "    def stop (self):\n",
    "        print(\"자전거 ({0},{1}): 정지\".format(self.wheel_size, self.color))"
   ]
  },
  {
   "cell_type": "markdown",
   "id": "6011b9e4",
   "metadata": {},
   "source": [
    "자식 클래스 생성 방법"
   ]
  },
  {
   "cell_type": "markdown",
   "id": "7029b579",
   "metadata": {},
   "source": [
    "부모클래스 이름.함수명() 또는 super().함수명()을 사용한다."
   ]
  },
  {
   "cell_type": "code",
   "execution_count": 24,
   "id": "df27981b",
   "metadata": {},
   "outputs": [],
   "source": [
    "class FoldingBicycle(Bicycle):\n",
    "    \n",
    "    def __init__(self,wheel_size, color, state): # FoldingBicycle 초기화\n",
    "        Bicycle.__init__(self,wheel_size, color) # Bicycle의 초기화 재사용\n",
    "        #super().__init__(wheel_size,color)# super()도 사용가능\n",
    "        self.state = state # 자식 클래스에서 새로 추가한 변수\n",
    "        \n",
    "    def fold(self): #자전거를 접는 함수\n",
    "        self.state = 'folding' \n",
    "        print(\"자전거: 접기, state = {0}\".format(self.state))\n",
    "        \n",
    "    def unfold(self): # 자전거를 펴는 함수\n",
    "        self.state = 'unfolding'\n",
    "        print(\"자전거: 펴기, state = {0}\".format(self.state))"
   ]
  },
  {
   "cell_type": "code",
   "execution_count": 25,
   "id": "3b753226",
   "metadata": {},
   "outputs": [
    {
     "name": "stdout",
     "output_type": "stream",
     "text": [
      "자전거: 시속 20킬로미터로 전진\n",
      "자전거: 점기, state = folding\n",
      "자전거: 펴기, state = unfolding\n"
     ]
    }
   ],
   "source": [
    "folding_bicycle = FoldingBicycle(27,'white', 'unfolding') # 객체 생성\n",
    "folding_bicycle.move(20) # 부모 클래스의 함수(메서드) 호출 # 자식 클래스에 없는 함수를 쓰는법\n",
    "folding_bicycle.fold()   # 자식 클래스에서 정의한 함수 호출\n",
    "folding_bicycle.unfold()"
   ]
  },
  {
   "cell_type": "markdown",
   "id": "13a1358c",
   "metadata": {},
   "source": [
    "자식이 부모에게 받은 함수를 변경해서 사용할 수도 있다."
   ]
  }
 ],
 "metadata": {
  "kernelspec": {
   "display_name": "Python 3 (ipykernel)",
   "language": "python",
   "name": "python3"
  },
  "language_info": {
   "codemirror_mode": {
    "name": "ipython",
    "version": 3
   },
   "file_extension": ".py",
   "mimetype": "text/x-python",
   "name": "python",
   "nbconvert_exporter": "python",
   "pygments_lexer": "ipython3",
   "version": "3.9.13"
  }
 },
 "nbformat": 4,
 "nbformat_minor": 5
}
