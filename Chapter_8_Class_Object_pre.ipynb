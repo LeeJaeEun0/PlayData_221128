{
 "cells": [
  {
   "cell_type": "markdown",
   "id": "f7b0078e",
   "metadata": {},
   "source": [
    "## 학생"
   ]
  },
  {
   "cell_type": "code",
   "execution_count": 3,
   "id": "9813f344",
   "metadata": {},
   "outputs": [],
   "source": [
    "class Student():\n",
    "    def s_name(self):\n",
    "        print(\"학생의 이름은 {0}입니다.\".format(self.name))\n",
    "    def s_school(self):\n",
    "        print(\"{0}학생의 학교는 {1}입니다.\".format(self.name, self.school))\n",
    "    def s_num(self):\n",
    "        print(\"학번은 {0}입니다.\".format(self.number))\n",
    "    def s_sub(self):\n",
    "        print(\"학생이 들은 과목은 {0} 입니다.\".format(self.subject))"
   ]
  },
  {
   "cell_type": "code",
   "execution_count": 7,
   "id": "87234dd3",
   "metadata": {},
   "outputs": [
    {
     "name": "stdout",
     "output_type": "stream",
     "text": [
      "학생의 이름은 Ace입니다.\n",
      "Ace학생의 학교는 Ace school입니다.\n",
      "학번은 1입니다.\n",
      "학생이 들은 과목은 coding 입니다.\n"
     ]
    }
   ],
   "source": [
    "num1 = Student()\n",
    "\n",
    "num1.name = \"Ace\"\n",
    "num1.school = \"Ace school\"\n",
    "num1.number = 1\n",
    "num1.subject = \"coding\"\n",
    "\n",
    "num1.s_name()\n",
    "num1.s_school()\n",
    "num1.s_num()\n",
    "num1.s_sub()"
   ]
  },
  {
   "cell_type": "markdown",
   "id": "76da2905",
   "metadata": {},
   "source": [
    "### 부모에게 상속받은 메소드 그대로 사용하기"
   ]
  },
  {
   "cell_type": "code",
   "execution_count": 15,
   "id": "9867d037",
   "metadata": {},
   "outputs": [],
   "source": [
    "class Student():\n",
    "    instance_student = 0\n",
    "    def __init__(self, name, school, number, subject):\n",
    "        self.name= name\n",
    "        self.school = school\n",
    "        self.number = number\n",
    "        self.subject = subject\n",
    "#         Student.instance_student = Studnent.instance_student + 1 # 총 학생수 1증가\n",
    "        \n",
    "    def s_name(self):\n",
    "        print(\"학생의 이름은 {0}입니다.\".format(self.name))\n",
    "    def s_school(self):\n",
    "        print(\"{0}학생의 학교는 {1}입니다.\".format(self.name, self.school))\n",
    "    def s_num(self):\n",
    "        print(\"학번은 {0}입니다.\".format(self.number))\n",
    "    def s_sub(self, score):\n",
    "        print(\"학생이 들은 과목은 {0}이고 {1}점 입니다.\".format(self.subject, score))"
   ]
  },
  {
   "cell_type": "code",
   "execution_count": 16,
   "id": "f2088c5d",
   "metadata": {},
   "outputs": [
    {
     "name": "stdout",
     "output_type": "stream",
     "text": [
      "학생의 이름은 Ace입니다.\n",
      "Ace학생의 학교는 AceSchool입니다.\n",
      "학번은 1입니다.\n",
      "학생이 들은 과목은 coding이고 100점 입니다.\n"
     ]
    }
   ],
   "source": [
    "num1 = Student(\"Ace\",\"AceSchool\",1,\"coding\")\n",
    "\n",
    "num1.s_name()\n",
    "num1.s_school()\n",
    "num1.s_num()\n",
    "num1.s_sub(100)"
   ]
  },
  {
   "cell_type": "code",
   "execution_count": 17,
   "id": "e0d2ae36",
   "metadata": {},
   "outputs": [
    {
     "name": "stdout",
     "output_type": "stream",
     "text": [
      "학생의 이름은 cookie입니다.\n",
      "cookie학생의 학교는 CookieSchool입니다.\n",
      "학번은 2입니다.\n",
      "학생이 들은 과목은 coding이고 100점 입니다.\n"
     ]
    }
   ],
   "source": [
    "num2 = Student(\"cookie\",\"CookieSchool\",2,\"coding\")\n",
    "\n",
    "num2.s_name()\n",
    "num2.s_school()\n",
    "num2.s_num()\n",
    "num2.s_sub(100)"
   ]
  },
  {
   "cell_type": "markdown",
   "id": "11450a33",
   "metadata": {},
   "source": [
    "### 부모 클래스에서 상속 받은 메소드 바꾸기"
   ]
  },
  {
   "cell_type": "code",
   "execution_count": 26,
   "id": "9d631358",
   "metadata": {},
   "outputs": [],
   "source": [
    "class Sub_Student(Student):\n",
    "    def __init__(self, name, school, number, subject, friend):\n",
    "        Student.__init__(self, name, school, number, subject)\n",
    "        self.friend = friend\n",
    "    \n",
    "    def s_sub(self): # 부모의 클래스 대신 자식 클래스 이용\n",
    "        print(\"{0}의 친구는 {1} 입니다.\".format(self.name, self.friend))\n",
    "            "
   ]
  },
  {
   "cell_type": "code",
   "execution_count": 27,
   "id": "30c7d6e0",
   "metadata": {},
   "outputs": [
    {
     "name": "stdout",
     "output_type": "stream",
     "text": [
      "학생의 이름은 Lisa입니다.\n",
      "Lisa학생의 학교는 LisaSchool입니다.\n",
      "학번은 3입니다.\n",
      "Lisa의 친구는 James 입니다.\n"
     ]
    }
   ],
   "source": [
    "num3 = Sub_Student(\"Lisa\",\"LisaSchool\",3,\"coding\",\"James\")\n",
    "\n",
    "num3.s_name()\n",
    "num3.s_school()\n",
    "num3.s_num()\n",
    "num3.s_sub()"
   ]
  },
  {
   "cell_type": "markdown",
   "id": "0fb34ecf",
   "metadata": {},
   "source": [
    "### 자동차 옵션"
   ]
  },
  {
   "cell_type": "code",
   "execution_count": 13,
   "id": "bbfa91a1",
   "metadata": {},
   "outputs": [],
   "source": [
    "class Car(): # 기본 차들이 반드시 가져야하는 속성\n",
    "    def __init__ (self, pos):\n",
    "        self.pos = pos\n",
    "\n",
    "    def go(self):\n",
    "        self.pos = self.pos + 100\n",
    "        print(\"당신의 100만큼 앞으로 이동한 당신의 현재 위치는 {0} 입니다.\".format(self.pos))\n",
    "    def stop(self):\n",
    "        print(\"당신의 멈춘 당신의 현재 위치는 {0} 입니다.\".format(self.pos))\n",
    "    def back(self):\n",
    "        self.pos = self.pos - 50\n",
    "        print(\"당신의 50만큼 뒤로 이동한 당신의 현재 위치는 {0} 입니다.\".format(self.pos))"
   ]
  },
  {
   "cell_type": "code",
   "execution_count": 14,
   "id": "8c26819a",
   "metadata": {},
   "outputs": [
    {
     "name": "stdout",
     "output_type": "stream",
     "text": [
      "당신의 100만큼 앞으로 이동한 당신의 현재 위치는 110 입니다.\n",
      "당신의 100만큼 앞으로 이동한 당신의 현재 위치는 210 입니다.\n",
      "당신의 100만큼 앞으로 이동한 당신의 현재 위치는 310 입니다.\n",
      "당신의 50만큼 뒤로 이동한 당신의 현재 위치는 260 입니다.\n",
      "당신의 멈춘 당신의 현재 위치는 260 입니다.\n",
      "당신의 100만큼 앞으로 이동한 당신의 현재 위치는 360 입니다.\n"
     ]
    }
   ],
   "source": [
    "car1 = Car(10)\n",
    "\n",
    "car1.go()\n",
    "car1.go()\n",
    "car1.go()\n",
    "car1. back()\n",
    "car1.stop()\n",
    "car1.go()"
   ]
  },
  {
   "cell_type": "code",
   "execution_count": null,
   "id": "27061a56",
   "metadata": {},
   "outputs": [],
   "source": []
  }
 ],
 "metadata": {
  "kernelspec": {
   "display_name": "Python 3 (ipykernel)",
   "language": "python",
   "name": "python3"
  },
  "language_info": {
   "codemirror_mode": {
    "name": "ipython",
    "version": 3
   },
   "file_extension": ".py",
   "mimetype": "text/x-python",
   "name": "python",
   "nbconvert_exporter": "python",
   "pygments_lexer": "ipython3",
   "version": "3.9.13"
  }
 },
 "nbformat": 4,
 "nbformat_minor": 5
}
