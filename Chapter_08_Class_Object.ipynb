{
 "cells": [
  {
   "cell_type": "markdown",
   "id": "b7842bfc",
   "metadata": {},
   "source": [
    "# 8장 객체와 클래스"
   ]
  },
  {
   "cell_type": "markdown",
   "id": "08e34822",
   "metadata": {},
   "source": [
    "## 8.2 클래스 선언과 객체 생성"
   ]
  },
  {
   "cell_type": "markdown",
   "id": "1888aa28",
   "metadata": {},
   "source": [
    "## 객체란?\n",
    "### 속성과 행위로 구성된 대상을 의미함\n",
    "#### 속성 = 상태, 특징 <br>\n",
    "    안경낀 사람 - 속성: 안경 낀 <br>\n",
    "#### 행위 = 행동, 동작, 기능<br>\n",
    "    의자 - 기능: 앉을 수 있는 <br>\n",
    "### 객체는 변수와 함수의 묶음\n",
    "객체 = 사람<br>\n",
    "변수 = 키, 몸무게, 이름<br>\n",
    "함수 = 걷기, 뛰기<br>"
   ]
  },
  {
   "cell_type": "markdown",
   "id": "63981cfa",
   "metadata": {},
   "source": [
    "## 클래스 선언 - 클래스명은 첫글자를 대문자로 작성\n",
    "class 클래스명(): <br>\n",
    "    [변수1] #클래스 변수<br>\n",
    "    [변수2] <br>\n",
    "    ---<br>\n",
    "    def 함수1(self, 인자1, 인자2): # 클래스 함수 #self를 항상 넣어햠.<br>\n",
    "           \n",
    "           <코드블록>\n",
    "    \n",
    "   def 함수2(self, 인자1, 인자2): \n",
    "            \n",
    "            <코드블록>\n",
    "            "
   ]
  },
  {
   "cell_type": "markdown",
   "id": "066631b7",
   "metadata": {},
   "source": [
    "### 객체 생성 및 활용"
   ]
  },
  {
   "cell_type": "code",
   "execution_count": 1,
   "id": "140daa76",
   "metadata": {},
   "outputs": [],
   "source": [
    "class Bicycle(): # 클래스 선언\n",
    "    pass"
   ]
  },
  {
   "cell_type": "markdown",
   "id": "df6359f5",
   "metadata": {},
   "source": [
    "### 클래스로부터 인스턴스(instance)인 객체를 생성\n",
    "객체명  = 클래스명()"
   ]
  },
  {
   "cell_type": "code",
   "execution_count": 2,
   "id": "7466de00",
   "metadata": {},
   "outputs": [],
   "source": [
    "my_bicycle = Bicycle() # 클래스를 통해서 객체를 생성함. # my_bicycle()에서 생성하는 것들을 사용가능"
   ]
  },
  {
   "cell_type": "code",
   "execution_count": 3,
   "id": "ac551bfd",
   "metadata": {},
   "outputs": [
    {
     "data": {
      "text/plain": [
       "<__main__.Bicycle at 0x2ee4cade190>"
      ]
     },
     "execution_count": 3,
     "metadata": {},
     "output_type": "execute_result"
    }
   ],
   "source": [
    "my_bicycle # 붕어빵 기계 - 클래스, 팥붕어빵, 슈크림붕어빵 - 객체 "
   ]
  },
  {
   "cell_type": "markdown",
   "id": "8b9aebcf",
   "metadata": {},
   "source": [
    "객체에 속성을 추가하기\n",
    "객체명.변수명 = 속성값"
   ]
  },
  {
   "cell_type": "code",
   "execution_count": 4,
   "id": "cccec7f6",
   "metadata": {},
   "outputs": [],
   "source": [
    "my_bicycle.wheel_size = 26 # 속성값 추가하기\n",
    "my_bicycle.color = 'black'"
   ]
  },
  {
   "cell_type": "markdown",
   "id": "eda438c7",
   "metadata": {},
   "source": [
    "속성 가져오기<br>\n",
    "객체명.변수명"
   ]
  },
  {
   "cell_type": "code",
   "execution_count": 10,
   "id": "18053df5",
   "metadata": {},
   "outputs": [
    {
     "name": "stdout",
     "output_type": "stream",
     "text": [
      "바퀴 크기:  26\n",
      "색상:  black\n"
     ]
    }
   ],
   "source": [
    "print(\"바퀴 크기: \",my_bicycle.wheel_size) #객체의 속성\n",
    "print(\"색상: \",my_bicycle.color)"
   ]
  },
  {
   "cell_type": "markdown",
   "id": "fc155146",
   "metadata": {},
   "source": [
    "함수 추가"
   ]
  },
  {
   "cell_type": "code",
   "execution_count": 13,
   "id": "93ebb9b8",
   "metadata": {},
   "outputs": [],
   "source": [
    "class Bicycle():\n",
    "    def move(self, speed):\n",
    "        print(\"자전거: 시속 {0}킬로미터로 전진\".format(speed))\n",
    "    def turn(self, direction):\n",
    "        print(\"자전거: {0}회전\".format(direction))\n",
    "    def stop(self):\n",
    "        print(\"자전거({0},{1}) 정지\".format(self.wheel_size, self.color))"
   ]
  },
  {
   "cell_type": "markdown",
   "id": "5521480b",
   "metadata": {},
   "source": [
    "객체의 메서드를 호출<br>\n",
    "객체명.메서드명(인자1, 인자2,...)"
   ]
  },
  {
   "cell_type": "code",
   "execution_count": 14,
   "id": "644d9261",
   "metadata": {},
   "outputs": [
    {
     "name": "stdout",
     "output_type": "stream",
     "text": [
      "자전거: 시속 30킬로미터로 전진\n",
      "자전거: 좌회전\n",
      "자전거(26,black) 정지\n"
     ]
    }
   ],
   "source": [
    "my_bicycle = Bicycle()       #Bicycle 클래스의 인스턴스인 my_bicycle 객체 생성\n",
    "\n",
    "my_bicycle.wheel_size = 26   # 객체의 속성 설정\n",
    "my_bicycle.color = 'black'\n",
    "\n",
    "my_bicycle.move(30)          # 객체의 메서드 호출\n",
    "my_bicycle.turn('좌')\n",
    "my_bicycle.stop()"
   ]
  },
  {
   "cell_type": "code",
   "execution_count": 15,
   "id": "9a660da4",
   "metadata": {},
   "outputs": [
    {
     "name": "stdout",
     "output_type": "stream",
     "text": [
      "자전거: 시속 20킬로미터로 전진\n",
      "자전거: 좌회전\n",
      "자전거(27,red) 정지\n"
     ]
    }
   ],
   "source": [
    "bicycle1 = Bicycle() # Bicycle 클래스의 인스턴스인 bicycle1 객체 생성\n",
    "\n",
    "my_bicycle.wheel_size = 27   # 객체의 속성 설정\n",
    "my_bicycle.color = 'red'\n",
    "\n",
    "my_bicycle.move(20)          # 객체의 메서드 호출\n",
    "my_bicycle.turn('좌')\n",
    "my_bicycle.stop()"
   ]
  },
  {
   "cell_type": "code",
   "execution_count": 17,
   "id": "d6a8861b",
   "metadata": {},
   "outputs": [
    {
     "name": "stdout",
     "output_type": "stream",
     "text": [
      "자전거: 시속 15킬로미터로 전진\n",
      "자전거: 우회전\n",
      "자전거(24,blue) 정지\n"
     ]
    }
   ],
   "source": [
    "bicycle1 = Bicycle() # Bicycle 클래스의 인스턴스인 bicycle1 객체 생성\n",
    "\n",
    "my_bicycle.wheel_size = 24   # 객체의 속성 설정\n",
    "my_bicycle.color = 'blue'\n",
    "\n",
    "my_bicycle.move(15)          # 객체의 메서드 호출\n",
    "my_bicycle.turn('우')\n",
    "my_bicycle.stop()"
   ]
  },
  {
   "cell_type": "markdown",
   "id": "d5a9b582",
   "metadata": {},
   "source": [
    "### 객체 초기화"
   ]
  },
  {
   "cell_type": "markdown",
   "id": "8a499286",
   "metadata": {},
   "source": [
    "#### init 함수 - 예약어\n",
    "객체를 생성하는 것과 동시에 속성값을 지정할 수 있다. 생성될때 자동으로 실행되기 때문에 속성을 초기화할 수 있다."
   ]
  },
  {
   "cell_type": "code",
   "execution_count": 18,
   "id": "3b156e47",
   "metadata": {},
   "outputs": [],
   "source": [
    "class Bicycle():\n",
    "    def __init__(self, wheel_size, color):\n",
    "        self.wheel_size = wheel_size\n",
    "        self.color = color\n",
    "    def move(self, speed):\n",
    "        print(\"자전거: 시속 {0}킬로미터로 전진\".format(speed))\n",
    "    def turn(self, direction):\n",
    "        print(\"자전거: {0}회전\".format(direction))\n",
    "    def stop(self):\n",
    "        print(\"자전거({0},{1}) 정지\".format(self.wheel_size, self.color))"
   ]
  },
  {
   "cell_type": "markdown",
   "id": "22226b9f",
   "metadata": {},
   "source": [
    "객체명 = 클래스명(인자1, 인자2,...)"
   ]
  },
  {
   "cell_type": "code",
   "execution_count": 19,
   "id": "534616b9",
   "metadata": {},
   "outputs": [
    {
     "name": "stdout",
     "output_type": "stream",
     "text": [
      "자전거: 시속 30킬로미터로 전진\n",
      "자전거: 좌회전\n",
      "자전거(26,blacke) 정지\n"
     ]
    }
   ],
   "source": [
    "my_bicycle = Bicycle(26, 'blacke') # 객체 생성과 동시에 속성값을 지정 #__init__ 를 미리 써서 넣을 수 있음\n",
    "\n",
    "my_bicycle.move(30)\n",
    "my_bicycle.turn('좌')\n",
    "my_bicycle.stop()"
   ]
  },
  {
   "cell_type": "code",
   "execution_count": 20,
   "id": "be753963",
   "metadata": {},
   "outputs": [
    {
     "name": "stdout",
     "output_type": "stream",
     "text": [
      "자전거: 시속 30킬로미터로 전진\n",
      "자전거: 좌회전\n",
      "자전거(blue,1000) 정지\n"
     ]
    }
   ],
   "source": [
    "my_bicycle = Bicycle('blue', 1000) # 역시 순서대로 들어가는 구나\n",
    "\n",
    "my_bicycle.move(30)\n",
    "my_bicycle.turn('좌')\n",
    "my_bicycle.stop()"
   ]
  },
  {
   "cell_type": "markdown",
   "id": "f6b1852e",
   "metadata": {},
   "source": [
    "## 8.2 클래스를 구성하는 변수와 함수"
   ]
  },
  {
   "cell_type": "markdown",
   "id": "c34a2541",
   "metadata": {},
   "source": [
    "클래스 변수 = 클래스 내에 있지만, 함수밖에서 '변수명=데이터' 형식으로 정의되며 모든 객체가 공통 사용 '클래스명.클래스'으로 사용한다.<br>\n",
    "\n",
    "인스턴스 변수 = 함수내에서 사용된 변숭이며 'self.변수명 = 데이터' 형식으로 정의한 변수로서 'self.변수명'으로 접근할 수 있다."
   ]
  },
  {
   "cell_type": "markdown",
   "id": "4a70a66b",
   "metadata": {},
   "source": [
    "#### Tip\n",
    "클래스 변수가 추가 되는 구나<br>\n",
    "move()는 실행하지 않아서 출력인 안되는구나<br>"
   ]
  },
  {
   "cell_type": "code",
   "execution_count": 2,
   "id": "46a7d4d3",
   "metadata": {},
   "outputs": [],
   "source": [
    "class Car(): \n",
    "    instance_count = 0 # 클래스 변수 생성 및 초기화\n",
    "    def __init__(self, size, color): #self를 통해 자신도 인자로 넣음.\n",
    "        self.size = size         #인스턴스 변수 생성 및 초기화\n",
    "        self.color = color       #인스턴스 변수 생성 및 초기화\n",
    "        Car.instance_count = Car.instance_count +1    #클래스 변수 이용\n",
    "        print(\"자동차 객체의 수 : {0}\".format(Car.instance_count))\n",
    "        \n",
    "    def move(self):\n",
    "        print(\"자동차({0} & {1})가 움직입니다.\".format(self.size,self.color))\n",
    "        "
   ]
  },
  {
   "cell_type": "code",
   "execution_count": 3,
   "id": "c83168aa",
   "metadata": {},
   "outputs": [
    {
     "name": "stdout",
     "output_type": "stream",
     "text": [
      "자동차 객체의 수 : 1\n",
      "자동차 객체의 수 : 2\n"
     ]
    }
   ],
   "source": [
    "car1 = Car('small','while')\n",
    "car2 = Car('big','black')"
   ]
  },
  {
   "cell_type": "code",
   "execution_count": 4,
   "id": "9f5fb233",
   "metadata": {},
   "outputs": [
    {
     "name": "stdout",
     "output_type": "stream",
     "text": [
      "small while\n"
     ]
    }
   ],
   "source": [
    "print(car1.size, car1.color)"
   ]
  },
  {
   "cell_type": "markdown",
   "id": "fbda96de",
   "metadata": {},
   "source": [
    "클래스명.변수명으로 언제든 호출"
   ]
  },
  {
   "cell_type": "code",
   "execution_count": 5,
   "id": "97edd5b1",
   "metadata": {},
   "outputs": [
    {
     "name": "stdout",
     "output_type": "stream",
     "text": [
      "Car 클래스의 총 인스턴스 개수: 2\n"
     ]
    }
   ],
   "source": [
    "print(\"Car 클래스의 총 인스턴스 개수: {}\".format(Car.instance_count))"
   ]
  },
  {
   "cell_type": "markdown",
   "id": "c550832a",
   "metadata": {},
   "source": [
    "모든 객체에서 공통으로 사용`"
   ]
  },
  {
   "cell_type": "code",
   "execution_count": 6,
   "id": "ce65576a",
   "metadata": {},
   "outputs": [
    {
     "name": "stdout",
     "output_type": "stream",
     "text": [
      "Car 클래스의 총 인스턴스 개수: 2\n",
      "Car 클래스의 총 인스턴스 개수: 2\n"
     ]
    }
   ],
   "source": [
    "print(\"Car 클래스의 총 인스턴스 개수: {}\".format(car1.instance_count)) # 클래스변수를 인스턴스에서 사용가능하지만 반대는 불가\n",
    "print(\"Car 클래스의 총 인스턴스 개수: {}\".format(car2.instance_count))"
   ]
  },
  {
   "cell_type": "markdown",
   "id": "b666d4d8",
   "metadata": {},
   "source": [
    "인스턴스 변수는 각 객체에서도 별도로 관리됩니다."
   ]
  },
  {
   "cell_type": "code",
   "execution_count": 7,
   "id": "f5fa58f2",
   "metadata": {},
   "outputs": [
    {
     "name": "stdout",
     "output_type": "stream",
     "text": [
      "자동차(small & while)가 움직입니다.\n",
      "자동차(big & black)가 움직입니다.\n"
     ]
    }
   ],
   "source": [
    "car1.move() #car1과 car2는 별도로 실행\n",
    "car2.move()"
   ]
  },
  {
   "cell_type": "markdown",
   "id": "1a4bd69a",
   "metadata": {},
   "source": [
    "이름이 같은 클래스 변수와 인스턴스 변수의 경우"
   ]
  },
  {
   "cell_type": "code",
   "execution_count": 8,
   "id": "d3f2a153",
   "metadata": {},
   "outputs": [],
   "source": [
    "class Car2():\n",
    "    count = 0 # 클래스 변수 생성 및 초기화\n",
    "    \n",
    "    def __init__(self, size, num): # 인자가 2개 넘어오겠구나 - size, num\n",
    "        self.size = size # 인스턴스 변수 생성 및 초기화\n",
    "        self.count = num # 인스턴스 변수 생성 및 초기화 #  호출하면서 넣은 값\n",
    "        Car2.count = Car2.count + 1 # 클래스 변수 이용\n",
    "        print(\"자동차 객체의 수: Car2.count = {0}\".format(Car2.count))\n",
    "        print(\"인스턴스 변수 초기화: self.count = {0}\".format(self.count))\n",
    "        \n",
    "    def move(self):\n",
    "        print(\"자동차({0} & {1})가 움직입니다.\".format(self.size,self.color))"
   ]
  },
  {
   "cell_type": "markdown",
   "id": "0ee0850b",
   "metadata": {},
   "source": [
    " 변수 이름은 같지만 별개로 동작"
   ]
  },
  {
   "cell_type": "code",
   "execution_count": 9,
   "id": "9e2b85f5",
   "metadata": {},
   "outputs": [
    {
     "name": "stdout",
     "output_type": "stream",
     "text": [
      "자동차 객체의 수: Car2.count = 1\n",
      "인스턴스 변수 초기화: self.count = 20\n",
      "자동차 객체의 수: Car2.count = 2\n",
      "인스턴스 변수 초기화: self.count = 30\n"
     ]
    }
   ],
   "source": [
    "car1 = Car2(\"big\",20)\n",
    "car1 = Car2(\"small\",30)"
   ]
  },
  {
   "cell_type": "markdown",
   "id": "88a34afd",
   "metadata": {},
   "source": [
    "## 클래스에서 사용하는 함수"
   ]
  },
  {
   "cell_type": "markdown",
   "id": "11803d76",
   "metadata": {},
   "source": [
    "### 인스턴스 메소드\n",
    "각 객체에서 개별적으로 동작하는 함수를 만들고자 할 때는 사용하는 함수\n",
    "class 클래스명():\n",
    "    \n",
    "     def 함수명(self, 인자1, 인자2, ... , 인자n):\n",
    "        \n",
    "        self.변수명1 = 인자1<br>\n",
    "        self.변수명2 = 인자2<br>\n",
    "        self.변수명3 = 데이터<br>\n",
    "        ...<br>\n",
    "        <코드블록><br>\n",
    "\n",
    "다음과 같이 객체를 생성한 후에 호출할 수 있다.\n",
    "객체명 = 클래스명()\n",
    " \n",
    "객체명.메서드명(인자1, 인자2, 인자3, ... , 인자n)"
   ]
  },
  {
   "cell_type": "code",
   "execution_count": 33,
   "id": "824fcee3",
   "metadata": {},
   "outputs": [],
   "source": [
    "class Car():\n",
    "    instance_count = 0 # 클래스 변수 생성 및 초기화\n",
    "    #초기화 함수(인스턴스 메서드)\n",
    "    def __init__ (self, size, color):\n",
    "        self.size = size # 인스턴스 변수 생성 및 초기화\n",
    "        self.color = color # 인스턴스 변수 생성 및 초기화\n",
    "        Car.instance_count = Car.instance_count + 1 # 클래스 변수 이용\n",
    "        print(\"자동차 객체의 수: {0}\".format(Car.instance_count))\n",
    "        \n",
    "     # 인스턴스 메서드   \n",
    "    def move(self, speed):\n",
    "        self.speed = speed # 인스턴스 변수 생성\n",
    "        print(\"자동차({0},{1})가 \".format(self.size, self.color), end='')\n",
    "        print(\"시속 {0}킬로미터로 전진\".format(self.speed))\n",
    "    \n",
    "    # 인스턴스 메서드\n",
    "    def auto_cruise(self):\n",
    "        print(\"자율 주행 모드\")\n",
    "        self.move(self.speed) # move() 함수의 인자로 인스턴스 변수를 입력"
   ]
  },
  {
   "cell_type": "code",
   "execution_count": 35,
   "id": "061d0b70",
   "metadata": {},
   "outputs": [
    {
     "name": "stdout",
     "output_type": "stream",
     "text": [
      "자동차 객체의 수: 3\n",
      "자동차 객체의 수: 4\n",
      "자동차(small,red)가 시속 80킬로미터로 전진\n",
      "자동차(big,green)가 시속 80킬로미터로 전진\n",
      "자율 주행 모드\n",
      "자동차(small,red)가 시속 80킬로미터로 전진\n",
      "자율 주행 모드\n",
      "자동차(big,green)가 시속 80킬로미터로 전진\n"
     ]
    }
   ],
   "source": [
    "car1 = Car(\"small\",\"red\") # 객체생성 (car1)\n",
    "car2 = Car(\"big\",\"green\") # 객체생성 (car2)\n",
    "\n",
    "car1.move(80) #객체(car1)의 move()메서드 호출\n",
    "car2.move(80) #객체(car1)의 move()메서드 호출\n",
    "\n",
    "car1.auto_cruise() # 객체 (car1)의 auto_cruise() 메서드\n",
    "car2.auto_cruise() # 객체(car2)의 auto_cruise() 메서드"
   ]
  },
  {
   "cell_type": "markdown",
   "id": "34b83d05",
   "metadata": {},
   "source": [
    "### 정적 메서드"
   ]
  },
  {
   "cell_type": "markdown",
   "id": "9f9e17a7",
   "metadata": {},
   "source": [
    "클래스나 클래스의 인스턴스(객체)와 무관하게 독립적으로 만들고 싶은 함수를 만들고 싶을 때 사용\n",
    " \n",
    " 함수 앞에 @staticmethod를 선언해서 사용한다.\n",
    " \n",
    " class 클래스명():\n",
    "      \n",
    "    @statcmethod\n",
    "    \n",
    "    def 함수명(인자1, 인자2, ..., 인자n) :\n",
    "        <코드 블록>\n",
    "    \n",
    "    정적 메서드는 보통 객체를 생성하지 않고 클래스명을 이용해 바로 메서드를 호출한다.\n",
    "    \n",
    "    클래스명.메서드명(인자1, 인자2, ..., 인자n)\n",
    "    \n",
    "    날짜 및 시간 정보 제공, 환율 정보 제공, 단위변환과 같이 객체와 독립적으로 동작하는 함수를 만들때 주로 사용한다.\n",
    "    "
   ]
  },
  {
   "cell_type": "code",
   "execution_count": 19,
   "id": "f2533715",
   "metadata": {},
   "outputs": [],
   "source": [
    "# Car 클래스 \n",
    "class Car():\n",
    "    \n",
    "    # def __init__ (self, size, csolor): => 잎의 코드 활용\n",
    "    # def move(self, speed): => 앞의 코드를 활용\n",
    "    # def auto_cruise(self): => 앞의 코드 활용\n",
    "    \n",
    "    #정적 메서드\n",
    "    @staticmethod\n",
    "    def check_type(model_code):\n",
    "        if(model_code >= 20) :\n",
    "            print(\"이 자동차는 전기차 입니다.\")\n",
    "        elif (10 <= model_code < 20):\n",
    "            print(\"이 자동차는 가솔린차입니다.\")\n",
    "        else:\n",
    "            print(\"이 자동차는 디젤차입니다.\")"
   ]
  },
  {
   "cell_type": "code",
   "execution_count": 20,
   "id": "86adf130",
   "metadata": {},
   "outputs": [
    {
     "name": "stdout",
     "output_type": "stream",
     "text": [
      "이 자동차는 전기차 입니다.\n",
      "이 자동차는 디젤차입니다.\n"
     ]
    }
   ],
   "source": [
    "Car.check_type(25)\n",
    "Car.check_type(2)"
   ]
  },
  {
   "cell_type": "markdown",
   "id": "bf624a52",
   "metadata": {},
   "source": [
    "### 클래스 메서드\n",
    "\n",
    "클래스 변수를 사용하기 위한 함수\n",
    "\n",
    "함수를 정의할때 첫번째 인자로 클래스를 넘겨받는 cls가 필요하며 이를 이용해 클래스 변수에 접근한다.\n",
    "함수 앞에 @Classmethod를 지정해야한다.\n",
    "\n",
    "class 클래스명():\n",
    "    @classmethod\n",
    "    \n",
    "    def 함수명(cls, 인자1, 인자2,..., 인자n):\n",
    "        <코드 블록>\n",
    "        \n",
    "    클래스 메서드로 객체를 생성하지 않고 바로 호출가능\n",
    "    \n",
    "    클래스명.메서드명(인자1,인자2,...,인자n):\n",
    "    \n",
    "    클래스명 메서드는 생서된 객체의 개수를 반환하는 등 클래스 전체에서 관리해야 할 기능이 있을때 주로 사용한다."
   ]
  },
  {
   "cell_type": "code",
   "execution_count": 12,
   "id": "d1139865",
   "metadata": {},
   "outputs": [],
   "source": [
    "# Car 클래스 선언\n",
    "class Car():\n",
    "    instance_count = 0 # 클래스변수\n",
    "    \n",
    "    #초기화 함수(인스턴스 메서드)\n",
    "    def __init__ (self, size, color):\n",
    "        self.size = size\n",
    "        self.color = color\n",
    "        Car.instance_count = Car.instance_count + 1\n",
    "        \n",
    "        # def move(self, speed): => 앞의 코드 활용\n",
    "        # def auto_cruise(self): => 앞의 코드 활용\n",
    "        #@staticmethod\n",
    "        # def check_type(model_code): = 앞의 코드 활용\n",
    "        \n",
    "        # 클래스 메서드\n",
    "    @classmethod\n",
    "    def count_instance(cls):\n",
    "        print(\"자동차 객체의 개수: {0}\".format(cls.instance_count))"
   ]
  },
  {
   "cell_type": "markdown",
   "id": "82200252",
   "metadata": {},
   "source": [
    "instance_count는 객체가 증가할때마다 1씩 증가한다. 클래스메서드를 호출하면 현재까지 생성된 객체의 개수를 알 수 있다."
   ]
  },
  {
   "cell_type": "code",
   "execution_count": 13,
   "id": "f611d936",
   "metadata": {},
   "outputs": [
    {
     "name": "stdout",
     "output_type": "stream",
     "text": [
      "자동차 객체의 개수: 0\n",
      "자동차 객체의 개수: 1\n",
      "자동차 객체의 개수: 2\n"
     ]
    }
   ],
   "source": [
    "Car.count_instance() # 객체 생성 전에 클래스 메서드 호출\n",
    "\n",
    "car1 = Car(\"small\",\"red\") # 첫 번째 객체 생성\n",
    "Car.count_instance() # 클래스 메서드 호출\n",
    "\n",
    "car2 = Car(\"big\",\"green\") #두 번째 객체 생성\n",
    "Car.count_instance() # 클래스 메서드 호출"
   ]
  }
 ],
 "metadata": {
  "kernelspec": {
   "display_name": "Python 3 (ipykernel)",
   "language": "python",
   "name": "python3"
  },
  "language_info": {
   "codemirror_mode": {
    "name": "ipython",
    "version": 3
   },
   "file_extension": ".py",
   "mimetype": "text/x-python",
   "name": "python",
   "nbconvert_exporter": "python",
   "pygments_lexer": "ipython3",
   "version": "3.9.13"
  }
 },
 "nbformat": 4,
 "nbformat_minor": 5
}
